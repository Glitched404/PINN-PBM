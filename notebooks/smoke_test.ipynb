{
 "cells": [
  {
   "cell_type": "markdown",
   "metadata": {},
   "source": [
    "# PINN-PBM Smoke Test Notebook\n",
    "\n",
    "**Quickly validate all case runners work without numerical errors**\n",
    "\n",
    "Runs each case with minimal settings (5 Adam steps, no L-BFGS) to verify:\n",
    "- Imports succeed\n",
    "- Training runs without crashes\n",
    "- Losses are finite\n",
    "- Returns expected data structures"
   ]
  },
  {
   "cell_type": "code",
   "execution_count": null,
   "metadata": {},
   "outputs": [],
   "source": [
    "# Install dependencies\n",
    "%pip install -q -r requirements-colab.txt\n",
    "%pip install -e . --no-deps"
   ]
  },
  {
   "cell_type": "code",
   "execution_count": null,
   "metadata": {},
   "outputs": [],
   "source": [
    "from pinn_pbm.breakage.experiments import run_case\n",
    "\n",
    "for case in [\"case1\", \"case2\", \"case3\", \"case4\"]:\n",
    "    print(f\\\"Running smoke test for {case}...\\\")\n",
    "    result = run_case(\n",
    "        case_type=case,\n",
    "        adam_epochs=5,\n",
    "        lbfgs=\\\"none\\\",\n",
    "        make_plots=False,\n",
    "        verbose=False\n",
    "    )\n",
    "    \n",
    "    # Basic validation\n",
    "    assert result[\\\"config\\\"].case_type == case\n",
    "    assert result[\\\"adam_duration_sec\\\"] > 0\n",
    "    assert all(np.isfinite(result[\\\"losses\\\"][key]).all() for key in (\\\"total\\\", \\\"data\\\", \\\"physics\\\"))\n",
    "    \n",
    "    print(f\\\"✅ {case} passed\\\")\n",
    "    print()"
   ]
  }
 ],
 "metadata": {
  "kernelspec": {
   "display_name": "Python 3",
   "language": "python",
   "name": "python3"
  },
  "language_info": {
   "codemirror_mode": {
    "name": "ipython",
    "version": 3
   },
   "file_extension": ".py",
   "mimetype": "text/x-python",
   "name": "python",
   "nbconvert_exporter": "python",
   "pygments_lexer": "ipython3",
   "version": "3.12.0"
  }
 },
 "nbformat": 4,
 "nbformat_minor": 2
}
